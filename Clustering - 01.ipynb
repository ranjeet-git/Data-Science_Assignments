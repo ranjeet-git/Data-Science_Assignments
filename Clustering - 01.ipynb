{
 "cells": [
  {
   "cell_type": "markdown",
   "metadata": {},
   "source": [
    "# Assignment 07: Clustering - 01"
   ]
  },
  {
   "cell_type": "raw",
   "metadata": {},
   "source": [
    "Perform clustering (hierarchical,K means clustering and DBSCAN) for the airlines data to obtain optimum number of clusters. \n",
    "Draw the inferences from the clusters obtained.\n",
    "\n",
    "Data Description:\n",
    " \n",
    "The file EastWestAirlines contains information on passengers who belong to an airline’s frequent flier program. For each passenger the data include information on their mileage history and on different ways they accrued or spent miles in the last year. The goal is to try to identify clusters of passengers that have similar characteristics for the purpose of targeting different segments for different types of mileage offers\n",
    "\n",
    "ID --Unique ID\n",
    "\n",
    "Balance--Number of miles eligible for award travel\n",
    "\n",
    "Qual_mile--Number of miles counted as qualifying for Topflight status\n",
    "\n",
    "cc1_miles -- Number of miles earned with freq. flyer credit card in the past 12 months:\n",
    "cc2_miles -- Number of miles earned with Rewards credit card in the past 12 months:\n",
    "cc3_miles -- Number of miles earned with Small Business credit card in the past 12 months:\n",
    "\n",
    "1 = under 5,000\n",
    "2 = 5,000 - 10,000\n",
    "3 = 10,001 - 25,000\n",
    "4 = 25,001 - 50,000\n",
    "5 = over 50,000\n",
    "\n",
    "Bonus_miles--Number of miles earned from non-flight bonus transactions in the past 12 months\n",
    "\n",
    "Bonus_trans--Number of non-flight bonus transactions in the past 12 months\n",
    "\n",
    "Flight_miles_12mo--Number of flight miles in the past 12 months\n",
    "\n",
    "Flight_trans_12--Number of flight transactions in the past 12 months\n",
    "\n",
    "Days_since_enrolled--Number of days since enrolled in flier program\n",
    "\n",
    "Award--whether that person had award flight (free flight) or not "
   ]
  },
  {
   "cell_type": "markdown",
   "metadata": {},
   "source": [
    "#### Dataset: EastWestAirlines.csv"
   ]
  },
  {
   "cell_type": "code",
   "execution_count": 1,
   "metadata": {},
   "outputs": [],
   "source": [
    "# Importing Libraries\n",
    "import pandas as pd\n",
    "import numpy as np\n",
    "import matplotlib.pyplot as plt\n",
    "import scipy.cluster.hierarchy as sch\n",
    "from sklearn.cluster import AgglomerativeClustering"
   ]
  },
  {
   "cell_type": "code",
   "execution_count": 2,
   "metadata": {
    "scrolled": true
   },
   "outputs": [
    {
     "data": {
      "text/html": [
       "<div>\n",
       "<style scoped>\n",
       "    .dataframe tbody tr th:only-of-type {\n",
       "        vertical-align: middle;\n",
       "    }\n",
       "\n",
       "    .dataframe tbody tr th {\n",
       "        vertical-align: top;\n",
       "    }\n",
       "\n",
       "    .dataframe thead th {\n",
       "        text-align: right;\n",
       "    }\n",
       "</style>\n",
       "<table border=\"1\" class=\"dataframe\">\n",
       "  <thead>\n",
       "    <tr style=\"text-align: right;\">\n",
       "      <th></th>\n",
       "      <th>ID#</th>\n",
       "      <th>Balance</th>\n",
       "      <th>Qual_miles</th>\n",
       "      <th>cc1_miles</th>\n",
       "      <th>cc2_miles</th>\n",
       "      <th>cc3_miles</th>\n",
       "      <th>Bonus_miles</th>\n",
       "      <th>Bonus_trans</th>\n",
       "      <th>Flight_miles_12mo</th>\n",
       "      <th>Flight_trans_12</th>\n",
       "      <th>Days_since_enroll</th>\n",
       "      <th>Award?</th>\n",
       "    </tr>\n",
       "  </thead>\n",
       "  <tbody>\n",
       "    <tr>\n",
       "      <th>0</th>\n",
       "      <td>1</td>\n",
       "      <td>28143</td>\n",
       "      <td>0</td>\n",
       "      <td>1</td>\n",
       "      <td>1</td>\n",
       "      <td>1</td>\n",
       "      <td>174</td>\n",
       "      <td>1</td>\n",
       "      <td>0</td>\n",
       "      <td>0</td>\n",
       "      <td>7000</td>\n",
       "      <td>0</td>\n",
       "    </tr>\n",
       "    <tr>\n",
       "      <th>1</th>\n",
       "      <td>2</td>\n",
       "      <td>19244</td>\n",
       "      <td>0</td>\n",
       "      <td>1</td>\n",
       "      <td>1</td>\n",
       "      <td>1</td>\n",
       "      <td>215</td>\n",
       "      <td>2</td>\n",
       "      <td>0</td>\n",
       "      <td>0</td>\n",
       "      <td>6968</td>\n",
       "      <td>0</td>\n",
       "    </tr>\n",
       "    <tr>\n",
       "      <th>2</th>\n",
       "      <td>3</td>\n",
       "      <td>41354</td>\n",
       "      <td>0</td>\n",
       "      <td>1</td>\n",
       "      <td>1</td>\n",
       "      <td>1</td>\n",
       "      <td>4123</td>\n",
       "      <td>4</td>\n",
       "      <td>0</td>\n",
       "      <td>0</td>\n",
       "      <td>7034</td>\n",
       "      <td>0</td>\n",
       "    </tr>\n",
       "    <tr>\n",
       "      <th>3</th>\n",
       "      <td>4</td>\n",
       "      <td>14776</td>\n",
       "      <td>0</td>\n",
       "      <td>1</td>\n",
       "      <td>1</td>\n",
       "      <td>1</td>\n",
       "      <td>500</td>\n",
       "      <td>1</td>\n",
       "      <td>0</td>\n",
       "      <td>0</td>\n",
       "      <td>6952</td>\n",
       "      <td>0</td>\n",
       "    </tr>\n",
       "    <tr>\n",
       "      <th>4</th>\n",
       "      <td>5</td>\n",
       "      <td>97752</td>\n",
       "      <td>0</td>\n",
       "      <td>4</td>\n",
       "      <td>1</td>\n",
       "      <td>1</td>\n",
       "      <td>43300</td>\n",
       "      <td>26</td>\n",
       "      <td>2077</td>\n",
       "      <td>4</td>\n",
       "      <td>6935</td>\n",
       "      <td>1</td>\n",
       "    </tr>\n",
       "  </tbody>\n",
       "</table>\n",
       "</div>"
      ],
      "text/plain": [
       "   ID#  Balance  Qual_miles  cc1_miles  cc2_miles  cc3_miles  Bonus_miles  \\\n",
       "0    1    28143           0          1          1          1          174   \n",
       "1    2    19244           0          1          1          1          215   \n",
       "2    3    41354           0          1          1          1         4123   \n",
       "3    4    14776           0          1          1          1          500   \n",
       "4    5    97752           0          4          1          1        43300   \n",
       "\n",
       "   Bonus_trans  Flight_miles_12mo  Flight_trans_12  Days_since_enroll  Award?  \n",
       "0            1                  0                0               7000       0  \n",
       "1            2                  0                0               6968       0  \n",
       "2            4                  0                0               7034       0  \n",
       "3            1                  0                0               6952       0  \n",
       "4           26               2077                4               6935       1  "
      ]
     },
     "execution_count": 2,
     "metadata": {},
     "output_type": "execute_result"
    }
   ],
   "source": [
    "# Loading Dataset\n",
    "data = pd.read_excel('Datasets/EastWestAirlines.xlsx', sheet_name = 'data')\n",
    "data.head()"
   ]
  },
  {
   "cell_type": "markdown",
   "metadata": {},
   "source": [
    "## Data Preprocessing and EDA"
   ]
  },
  {
   "cell_type": "code",
   "execution_count": 3,
   "metadata": {},
   "outputs": [
    {
     "name": "stdout",
     "output_type": "stream",
     "text": [
      "<class 'pandas.core.frame.DataFrame'>\n",
      "RangeIndex: 3999 entries, 0 to 3998\n",
      "Data columns (total 12 columns):\n",
      " #   Column             Non-Null Count  Dtype\n",
      "---  ------             --------------  -----\n",
      " 0   ID#                3999 non-null   int64\n",
      " 1   Balance            3999 non-null   int64\n",
      " 2   Qual_miles         3999 non-null   int64\n",
      " 3   cc1_miles          3999 non-null   int64\n",
      " 4   cc2_miles          3999 non-null   int64\n",
      " 5   cc3_miles          3999 non-null   int64\n",
      " 6   Bonus_miles        3999 non-null   int64\n",
      " 7   Bonus_trans        3999 non-null   int64\n",
      " 8   Flight_miles_12mo  3999 non-null   int64\n",
      " 9   Flight_trans_12    3999 non-null   int64\n",
      " 10  Days_since_enroll  3999 non-null   int64\n",
      " 11  Award?             3999 non-null   int64\n",
      "dtypes: int64(12)\n",
      "memory usage: 375.0 KB\n"
     ]
    }
   ],
   "source": [
    "data.info()"
   ]
  },
  {
   "cell_type": "code",
   "execution_count": 22,
   "metadata": {},
   "outputs": [
    {
     "data": {
      "text/html": [
       "<div>\n",
       "<style scoped>\n",
       "    .dataframe tbody tr th:only-of-type {\n",
       "        vertical-align: middle;\n",
       "    }\n",
       "\n",
       "    .dataframe tbody tr th {\n",
       "        vertical-align: top;\n",
       "    }\n",
       "\n",
       "    .dataframe thead th {\n",
       "        text-align: right;\n",
       "    }\n",
       "</style>\n",
       "<table border=\"1\" class=\"dataframe\">\n",
       "  <thead>\n",
       "    <tr style=\"text-align: right;\">\n",
       "      <th></th>\n",
       "      <th>ID</th>\n",
       "      <th>Balance</th>\n",
       "      <th>Qual_miles</th>\n",
       "      <th>cc1_miles</th>\n",
       "      <th>cc2_miles</th>\n",
       "      <th>cc3_miles</th>\n",
       "      <th>Bonus_miles</th>\n",
       "      <th>Bonus_trans</th>\n",
       "      <th>Flight_miles_12mo</th>\n",
       "      <th>Flight_trans_12</th>\n",
       "      <th>Days_since_enroll</th>\n",
       "      <th>Award</th>\n",
       "    </tr>\n",
       "  </thead>\n",
       "  <tbody>\n",
       "    <tr>\n",
       "      <th>0</th>\n",
       "      <td>1</td>\n",
       "      <td>28143</td>\n",
       "      <td>0</td>\n",
       "      <td>1</td>\n",
       "      <td>1</td>\n",
       "      <td>1</td>\n",
       "      <td>174</td>\n",
       "      <td>1</td>\n",
       "      <td>0</td>\n",
       "      <td>0</td>\n",
       "      <td>7000</td>\n",
       "      <td>0</td>\n",
       "    </tr>\n",
       "    <tr>\n",
       "      <th>1</th>\n",
       "      <td>2</td>\n",
       "      <td>19244</td>\n",
       "      <td>0</td>\n",
       "      <td>1</td>\n",
       "      <td>1</td>\n",
       "      <td>1</td>\n",
       "      <td>215</td>\n",
       "      <td>2</td>\n",
       "      <td>0</td>\n",
       "      <td>0</td>\n",
       "      <td>6968</td>\n",
       "      <td>0</td>\n",
       "    </tr>\n",
       "    <tr>\n",
       "      <th>2</th>\n",
       "      <td>3</td>\n",
       "      <td>41354</td>\n",
       "      <td>0</td>\n",
       "      <td>1</td>\n",
       "      <td>1</td>\n",
       "      <td>1</td>\n",
       "      <td>4123</td>\n",
       "      <td>4</td>\n",
       "      <td>0</td>\n",
       "      <td>0</td>\n",
       "      <td>7034</td>\n",
       "      <td>0</td>\n",
       "    </tr>\n",
       "    <tr>\n",
       "      <th>3</th>\n",
       "      <td>4</td>\n",
       "      <td>14776</td>\n",
       "      <td>0</td>\n",
       "      <td>1</td>\n",
       "      <td>1</td>\n",
       "      <td>1</td>\n",
       "      <td>500</td>\n",
       "      <td>1</td>\n",
       "      <td>0</td>\n",
       "      <td>0</td>\n",
       "      <td>6952</td>\n",
       "      <td>0</td>\n",
       "    </tr>\n",
       "    <tr>\n",
       "      <th>4</th>\n",
       "      <td>5</td>\n",
       "      <td>97752</td>\n",
       "      <td>0</td>\n",
       "      <td>4</td>\n",
       "      <td>1</td>\n",
       "      <td>1</td>\n",
       "      <td>43300</td>\n",
       "      <td>26</td>\n",
       "      <td>2077</td>\n",
       "      <td>4</td>\n",
       "      <td>6935</td>\n",
       "      <td>1</td>\n",
       "    </tr>\n",
       "  </tbody>\n",
       "</table>\n",
       "</div>"
      ],
      "text/plain": [
       "   ID  Balance  Qual_miles  cc1_miles  cc2_miles  cc3_miles  Bonus_miles  \\\n",
       "0   1    28143           0          1          1          1          174   \n",
       "1   2    19244           0          1          1          1          215   \n",
       "2   3    41354           0          1          1          1         4123   \n",
       "3   4    14776           0          1          1          1          500   \n",
       "4   5    97752           0          4          1          1        43300   \n",
       "\n",
       "   Bonus_trans  Flight_miles_12mo  Flight_trans_12  Days_since_enroll  Award  \n",
       "0            1                  0                0               7000      0  \n",
       "1            2                  0                0               6968      0  \n",
       "2            4                  0                0               7034      0  \n",
       "3            1                  0                0               6952      0  \n",
       "4           26               2077                4               6935      1  "
      ]
     },
     "execution_count": 22,
     "metadata": {},
     "output_type": "execute_result"
    }
   ],
   "source": [
    "# Renaming columns\n",
    "data = data.rename({'ID#':'ID','Award?':'Award'}, axis = 1)\n",
    "data.head()"
   ]
  },
  {
   "cell_type": "code",
   "execution_count": 5,
   "metadata": {},
   "outputs": [],
   "source": [
    "# Checking for all the values in dataset of type integer, if not replacing them with nan\n",
    "def check_int(df):\n",
    "    count = 0\n",
    "    for row in df:\n",
    "        try:\n",
    "            if type(row) != int:\n",
    "                df.loc[count] = np.nan\n",
    "        except:\n",
    "            pass\n",
    "        count +=1"
   ]
  },
  {
   "cell_type": "code",
   "execution_count": 6,
   "metadata": {},
   "outputs": [],
   "source": [
    "check_int(data[data.columns])"
   ]
  },
  {
   "cell_type": "code",
   "execution_count": 7,
   "metadata": {},
   "outputs": [
    {
     "data": {
      "text/plain": [
       "ID                   0\n",
       "Balance              0\n",
       "Qual_miles           0\n",
       "cc1_miles            0\n",
       "cc2_miles            0\n",
       "cc3_miles            0\n",
       "Bonus_miles          0\n",
       "Bonus_trans          0\n",
       "Flight_miles_12mo    0\n",
       "Flight_trans_12      0\n",
       "Days_since_enroll    0\n",
       "Award                0\n",
       "dtype: int64"
      ]
     },
     "execution_count": 7,
     "metadata": {},
     "output_type": "execute_result"
    }
   ],
   "source": [
    "data.isna().sum()"
   ]
  },
  {
   "cell_type": "code",
   "execution_count": 8,
   "metadata": {},
   "outputs": [
    {
     "data": {
      "text/html": [
       "<div>\n",
       "<style scoped>\n",
       "    .dataframe tbody tr th:only-of-type {\n",
       "        vertical-align: middle;\n",
       "    }\n",
       "\n",
       "    .dataframe tbody tr th {\n",
       "        vertical-align: top;\n",
       "    }\n",
       "\n",
       "    .dataframe thead th {\n",
       "        text-align: right;\n",
       "    }\n",
       "</style>\n",
       "<table border=\"1\" class=\"dataframe\">\n",
       "  <thead>\n",
       "    <tr style=\"text-align: right;\">\n",
       "      <th></th>\n",
       "      <th>count</th>\n",
       "      <th>mean</th>\n",
       "      <th>std</th>\n",
       "      <th>min</th>\n",
       "      <th>25%</th>\n",
       "      <th>50%</th>\n",
       "      <th>75%</th>\n",
       "      <th>max</th>\n",
       "    </tr>\n",
       "  </thead>\n",
       "  <tbody>\n",
       "    <tr>\n",
       "      <th>ID</th>\n",
       "      <td>3999.0</td>\n",
       "      <td>2014.819455</td>\n",
       "      <td>1160.764358</td>\n",
       "      <td>1.0</td>\n",
       "      <td>1010.5</td>\n",
       "      <td>2016.0</td>\n",
       "      <td>3020.5</td>\n",
       "      <td>4021.0</td>\n",
       "    </tr>\n",
       "    <tr>\n",
       "      <th>Balance</th>\n",
       "      <td>3999.0</td>\n",
       "      <td>73601.327582</td>\n",
       "      <td>100775.664958</td>\n",
       "      <td>0.0</td>\n",
       "      <td>18527.5</td>\n",
       "      <td>43097.0</td>\n",
       "      <td>92404.0</td>\n",
       "      <td>1704838.0</td>\n",
       "    </tr>\n",
       "    <tr>\n",
       "      <th>Qual_miles</th>\n",
       "      <td>3999.0</td>\n",
       "      <td>144.114529</td>\n",
       "      <td>773.663804</td>\n",
       "      <td>0.0</td>\n",
       "      <td>0.0</td>\n",
       "      <td>0.0</td>\n",
       "      <td>0.0</td>\n",
       "      <td>11148.0</td>\n",
       "    </tr>\n",
       "    <tr>\n",
       "      <th>cc1_miles</th>\n",
       "      <td>3999.0</td>\n",
       "      <td>2.059515</td>\n",
       "      <td>1.376919</td>\n",
       "      <td>1.0</td>\n",
       "      <td>1.0</td>\n",
       "      <td>1.0</td>\n",
       "      <td>3.0</td>\n",
       "      <td>5.0</td>\n",
       "    </tr>\n",
       "    <tr>\n",
       "      <th>cc2_miles</th>\n",
       "      <td>3999.0</td>\n",
       "      <td>1.014504</td>\n",
       "      <td>0.147650</td>\n",
       "      <td>1.0</td>\n",
       "      <td>1.0</td>\n",
       "      <td>1.0</td>\n",
       "      <td>1.0</td>\n",
       "      <td>3.0</td>\n",
       "    </tr>\n",
       "    <tr>\n",
       "      <th>cc3_miles</th>\n",
       "      <td>3999.0</td>\n",
       "      <td>1.012253</td>\n",
       "      <td>0.195241</td>\n",
       "      <td>1.0</td>\n",
       "      <td>1.0</td>\n",
       "      <td>1.0</td>\n",
       "      <td>1.0</td>\n",
       "      <td>5.0</td>\n",
       "    </tr>\n",
       "    <tr>\n",
       "      <th>Bonus_miles</th>\n",
       "      <td>3999.0</td>\n",
       "      <td>17144.846212</td>\n",
       "      <td>24150.967826</td>\n",
       "      <td>0.0</td>\n",
       "      <td>1250.0</td>\n",
       "      <td>7171.0</td>\n",
       "      <td>23800.5</td>\n",
       "      <td>263685.0</td>\n",
       "    </tr>\n",
       "    <tr>\n",
       "      <th>Bonus_trans</th>\n",
       "      <td>3999.0</td>\n",
       "      <td>11.601900</td>\n",
       "      <td>9.603810</td>\n",
       "      <td>0.0</td>\n",
       "      <td>3.0</td>\n",
       "      <td>12.0</td>\n",
       "      <td>17.0</td>\n",
       "      <td>86.0</td>\n",
       "    </tr>\n",
       "    <tr>\n",
       "      <th>Flight_miles_12mo</th>\n",
       "      <td>3999.0</td>\n",
       "      <td>460.055764</td>\n",
       "      <td>1400.209171</td>\n",
       "      <td>0.0</td>\n",
       "      <td>0.0</td>\n",
       "      <td>0.0</td>\n",
       "      <td>311.0</td>\n",
       "      <td>30817.0</td>\n",
       "    </tr>\n",
       "    <tr>\n",
       "      <th>Flight_trans_12</th>\n",
       "      <td>3999.0</td>\n",
       "      <td>1.373593</td>\n",
       "      <td>3.793172</td>\n",
       "      <td>0.0</td>\n",
       "      <td>0.0</td>\n",
       "      <td>0.0</td>\n",
       "      <td>1.0</td>\n",
       "      <td>53.0</td>\n",
       "    </tr>\n",
       "    <tr>\n",
       "      <th>Days_since_enroll</th>\n",
       "      <td>3999.0</td>\n",
       "      <td>4118.559390</td>\n",
       "      <td>2065.134540</td>\n",
       "      <td>2.0</td>\n",
       "      <td>2330.0</td>\n",
       "      <td>4096.0</td>\n",
       "      <td>5790.5</td>\n",
       "      <td>8296.0</td>\n",
       "    </tr>\n",
       "    <tr>\n",
       "      <th>Award</th>\n",
       "      <td>3999.0</td>\n",
       "      <td>0.370343</td>\n",
       "      <td>0.482957</td>\n",
       "      <td>0.0</td>\n",
       "      <td>0.0</td>\n",
       "      <td>0.0</td>\n",
       "      <td>1.0</td>\n",
       "      <td>1.0</td>\n",
       "    </tr>\n",
       "  </tbody>\n",
       "</table>\n",
       "</div>"
      ],
      "text/plain": [
       "                    count          mean            std  min      25%      50%  \\\n",
       "ID                 3999.0   2014.819455    1160.764358  1.0   1010.5   2016.0   \n",
       "Balance            3999.0  73601.327582  100775.664958  0.0  18527.5  43097.0   \n",
       "Qual_miles         3999.0    144.114529     773.663804  0.0      0.0      0.0   \n",
       "cc1_miles          3999.0      2.059515       1.376919  1.0      1.0      1.0   \n",
       "cc2_miles          3999.0      1.014504       0.147650  1.0      1.0      1.0   \n",
       "cc3_miles          3999.0      1.012253       0.195241  1.0      1.0      1.0   \n",
       "Bonus_miles        3999.0  17144.846212   24150.967826  0.0   1250.0   7171.0   \n",
       "Bonus_trans        3999.0     11.601900       9.603810  0.0      3.0     12.0   \n",
       "Flight_miles_12mo  3999.0    460.055764    1400.209171  0.0      0.0      0.0   \n",
       "Flight_trans_12    3999.0      1.373593       3.793172  0.0      0.0      0.0   \n",
       "Days_since_enroll  3999.0   4118.559390    2065.134540  2.0   2330.0   4096.0   \n",
       "Award              3999.0      0.370343       0.482957  0.0      0.0      0.0   \n",
       "\n",
       "                       75%        max  \n",
       "ID                  3020.5     4021.0  \n",
       "Balance            92404.0  1704838.0  \n",
       "Qual_miles             0.0    11148.0  \n",
       "cc1_miles              3.0        5.0  \n",
       "cc2_miles              1.0        3.0  \n",
       "cc3_miles              1.0        5.0  \n",
       "Bonus_miles        23800.5   263685.0  \n",
       "Bonus_trans           17.0       86.0  \n",
       "Flight_miles_12mo    311.0    30817.0  \n",
       "Flight_trans_12        1.0       53.0  \n",
       "Days_since_enroll   5790.5     8296.0  \n",
       "Award                  1.0        1.0  "
      ]
     },
     "execution_count": 8,
     "metadata": {},
     "output_type": "execute_result"
    }
   ],
   "source": [
    "data.describe().transpose()"
   ]
  },
  {
   "cell_type": "code",
   "execution_count": 9,
   "metadata": {},
   "outputs": [
    {
     "data": {
      "image/png": "[encoded data removed]",
      "text/plain": [
       "<Figure size 432x288 with 1 Axes>"
      ]
     },
     "metadata": {},
     "output_type": "display_data"
    }
   ],
   "source": [
    "# Checking previously awarded miles ratio\n",
    "data['Award'].value_counts().plot(kind='pie', autopct='%2.0f%%', fontsize='18', \n",
    "                                        colors = ['#F11A05','#43E206'], shadow =True)\n",
    "plt.show()"
   ]
  },
  {
   "cell_type": "code",
   "execution_count": 10,
   "metadata": {},
   "outputs": [
    {
     "data": {
      "image/png": "[encoded data removed]",
      "text/plain": [
       "<Figure size 2880x864 with 1 Axes>"
      ]
     },
     "metadata": {
      "needs_background": "light"
     },
     "output_type": "display_data"
    }
   ],
   "source": [
    "# Checking relation between Balance and Days_since_enroll\n",
    "import seaborn as sns\n",
    "fig, ax =plt.subplots(figsize=(40,12))\n",
    "ax = sns.lineplot(x= 'Days_since_enroll', y='Balance',data = data)"
   ]
  },
  {
   "cell_type": "raw",
   "metadata": {},
   "source": [
    "As Number of days since enrolled in flier program are increasing, balance miles also showing increasing pattern"
   ]
  },
  {
   "cell_type": "markdown",
   "metadata": {},
   "source": [
    "# Agglomerative Clustering"
   ]
  },
  {
   "cell_type": "code",
   "execution_count": 23,
   "metadata": {},
   "outputs": [
    {
     "data": {
      "text/html": [
       "<div>\n",
       "<style scoped>\n",
       "    .dataframe tbody tr th:only-of-type {\n",
       "        vertical-align: middle;\n",
       "    }\n",
       "\n",
       "    .dataframe tbody tr th {\n",
       "        vertical-align: top;\n",
       "    }\n",
       "\n",
       "    .dataframe thead th {\n",
       "        text-align: right;\n",
       "    }\n",
       "</style>\n",
       "<table border=\"1\" class=\"dataframe\">\n",
       "  <thead>\n",
       "    <tr style=\"text-align: right;\">\n",
       "      <th></th>\n",
       "      <th>Balance</th>\n",
       "      <th>Qual_miles</th>\n",
       "      <th>cc1_miles</th>\n",
       "      <th>cc2_miles</th>\n",
       "      <th>cc3_miles</th>\n",
       "      <th>Bonus_miles</th>\n",
       "      <th>Bonus_trans</th>\n",
       "      <th>Flight_miles_12mo</th>\n",
       "      <th>Flight_trans_12</th>\n",
       "      <th>Days_since_enroll</th>\n",
       "      <th>Award</th>\n",
       "    </tr>\n",
       "  </thead>\n",
       "  <tbody>\n",
       "    <tr>\n",
       "      <th>0</th>\n",
       "      <td>28143</td>\n",
       "      <td>0</td>\n",
       "      <td>1</td>\n",
       "      <td>1</td>\n",
       "      <td>1</td>\n",
       "      <td>174</td>\n",
       "      <td>1</td>\n",
       "      <td>0</td>\n",
       "      <td>0</td>\n",
       "      <td>7000</td>\n",
       "      <td>0</td>\n",
       "    </tr>\n",
       "    <tr>\n",
       "      <th>1</th>\n",
       "      <td>19244</td>\n",
       "      <td>0</td>\n",
       "      <td>1</td>\n",
       "      <td>1</td>\n",
       "      <td>1</td>\n",
       "      <td>215</td>\n",
       "      <td>2</td>\n",
       "      <td>0</td>\n",
       "      <td>0</td>\n",
       "      <td>6968</td>\n",
       "      <td>0</td>\n",
       "    </tr>\n",
       "    <tr>\n",
       "      <th>2</th>\n",
       "      <td>41354</td>\n",
       "      <td>0</td>\n",
       "      <td>1</td>\n",
       "      <td>1</td>\n",
       "      <td>1</td>\n",
       "      <td>4123</td>\n",
       "      <td>4</td>\n",
       "      <td>0</td>\n",
       "      <td>0</td>\n",
       "      <td>7034</td>\n",
       "      <td>0</td>\n",
       "    </tr>\n",
       "    <tr>\n",
       "      <th>3</th>\n",
       "      <td>14776</td>\n",
       "      <td>0</td>\n",
       "      <td>1</td>\n",
       "      <td>1</td>\n",
       "      <td>1</td>\n",
       "      <td>500</td>\n",
       "      <td>1</td>\n",
       "      <td>0</td>\n",
       "      <td>0</td>\n",
       "      <td>6952</td>\n",
       "      <td>0</td>\n",
       "    </tr>\n",
       "    <tr>\n",
       "      <th>4</th>\n",
       "      <td>97752</td>\n",
       "      <td>0</td>\n",
       "      <td>4</td>\n",
       "      <td>1</td>\n",
       "      <td>1</td>\n",
       "      <td>43300</td>\n",
       "      <td>26</td>\n",
       "      <td>2077</td>\n",
       "      <td>4</td>\n",
       "      <td>6935</td>\n",
       "      <td>1</td>\n",
       "    </tr>\n",
       "  </tbody>\n",
       "</table>\n",
       "</div>"
      ],
      "text/plain": [
       "   Balance  Qual_miles  cc1_miles  cc2_miles  cc3_miles  Bonus_miles  \\\n",
       "0    28143           0          1          1          1          174   \n",
       "1    19244           0          1          1          1          215   \n",
       "2    41354           0          1          1          1         4123   \n",
       "3    14776           0          1          1          1          500   \n",
       "4    97752           0          4          1          1        43300   \n",
       "\n",
       "   Bonus_trans  Flight_miles_12mo  Flight_trans_12  Days_since_enroll  Award  \n",
       "0            1                  0                0               7000      0  \n",
       "1            2                  0                0               6968      0  \n",
       "2            4                  0                0               7034      0  \n",
       "3            1                  0                0               6952      0  \n",
       "4           26               2077                4               6935      1  "
      ]
     },
     "execution_count": 23,
     "metadata": {},
     "output_type": "execute_result"
    }
   ],
   "source": [
    "data1 = data.drop('ID', axis = 1)\n",
    "data1.head()"
   ]
  },
  {
   "cell_type": "code",
   "execution_count": 12,
   "metadata": {},
   "outputs": [],
   "source": [
    "from sklearn.preprocessing import MinMaxScaler\n",
    "from sklearn.preprocessing import StandardScaler"
   ]
  },
  {
   "cell_type": "code",
   "execution_count": 13,
   "metadata": {},
   "outputs": [],
   "source": [
    "# We will check clustering for two different scaling functions\n",
    "scaler1 = MinMaxScaler()\n",
    "scaler2 = StandardScaler()"
   ]
  },
  {
   "cell_type": "code",
   "execution_count": 14,
   "metadata": {},
   "outputs": [
    {
     "name": "stdout",
     "output_type": "stream",
     "text": [
      "[[0.01650773 0.         0.         ... 0.         0.84374246 0.        ]\n",
      " [0.01128788 0.         0.         ... 0.         0.83988425 0.        ]\n",
      " [0.02425685 0.         0.         ... 0.         0.84784181 0.        ]\n",
      " ...\n",
      " [0.0431695  0.         0.5        ... 0.         0.16879672 1.        ]\n",
      " [0.03220189 0.         0.         ... 0.01886792 0.16867615 0.        ]\n",
      " [0.00176908 0.         0.         ... 0.         0.16831444 0.        ]]\n",
      "\n",
      "\n",
      "[[-4.51140783e-01 -1.86298687e-01 -7.69578406e-01 ... -3.62167870e-01\n",
      "   1.39545434e+00 -7.66919299e-01]\n",
      " [-5.39456874e-01 -1.86298687e-01 -7.69578406e-01 ... -3.62167870e-01\n",
      "   1.37995704e+00 -7.66919299e-01]\n",
      " [-3.20031232e-01 -1.86298687e-01 -7.69578406e-01 ... -3.62167870e-01\n",
      "   1.41192021e+00 -7.66919299e-01]\n",
      " ...\n",
      " [-4.29480975e-05 -1.86298687e-01  6.83121167e-01 ... -3.62167870e-01\n",
      "  -1.31560393e+00  1.30391816e+00]\n",
      " [-1.85606976e-01 -1.86298687e-01 -7.69578406e-01 ... -9.85033311e-02\n",
      "  -1.31608822e+00 -7.66919299e-01]\n",
      " [-7.00507951e-01 -1.86298687e-01 -7.69578406e-01 ... -3.62167870e-01\n",
      "  -1.31754109e+00 -7.66919299e-01]]\n"
     ]
    }
   ],
   "source": [
    "# Normalizing Dataset\n",
    "scaler1_df = scaler1.fit_transform(data1)\n",
    "print(scaler1_df)\n",
    "\n",
    "print('\\n')\n",
    "\n",
    "scaler2_df = scaler2.fit_transform(data1)\n",
    "print(scaler2_df)"
   ]
  },
  {
   "cell_type": "code",
   "execution_count": 15,
   "metadata": {
    "collapsed": true
   },
   "outputs": [
    {
     "data": {
      "image/png": "[encoded data removed]",
      "text/plain": [
       "<Figure size 720x504 with 1 Axes>"
      ]
     },
     "metadata": {
      "needs_background": "light"
     },
     "output_type": "display_data"
    }
   ],
   "source": [
    "# Create Dendrograms\n",
    "plt.figure(figsize=(10, 7))  \n",
    "dendograms=sch.dendrogram(sch.linkage(scaler1_df,'complete'))"
   ]
  },
  {
   "cell_type": "code",
   "execution_count": 16,
   "metadata": {
    "collapsed": true
   },
   "outputs": [
    {
     "data": {
      "image/png": "[encoded data removed]",
      "text/plain": [
       "<Figure size 720x504 with 1 Axes>"
      ]
     },
     "metadata": {
      "needs_background": "light"
     },
     "output_type": "display_data"
    }
   ],
   "source": [
    "plt.figure(figsize=(10, 7))  \n",
    "dendograms=sch.dendrogram(sch.linkage(scaler2_df,'complete'))"
   ]
  },
  {
   "cell_type": "code",
   "execution_count": 17,
   "metadata": {},
   "outputs": [
    {
     "data": {
      "text/plain": [
       "AgglomerativeClustering(n_clusters=5)"
      ]
     },
     "execution_count": 17,
     "metadata": {},
     "output_type": "execute_result"
    }
   ],
   "source": [
    "# Creating clusters\n",
    "H_clusters=AgglomerativeClustering(n_clusters=5,affinity='euclidean',linkage='ward')\n",
    "H_clusters"
   ]
  },
  {
   "cell_type": "code",
   "execution_count": 18,
   "metadata": {
    "scrolled": true
   },
   "outputs": [
    {
     "data": {
      "text/plain": [
       "1    1011\n",
       "0     946\n",
       "2     808\n",
       "4     699\n",
       "3     535\n",
       "Name: clustersid, dtype: int64"
      ]
     },
     "execution_count": 18,
     "metadata": {},
     "output_type": "execute_result"
    }
   ],
   "source": [
    "# Using data normalized by MinMaxScaler \n",
    "y=pd.DataFrame(H_clusters.fit_predict(scaler1_df),columns=['clustersid'])\n",
    "y['clustersid'].value_counts()"
   ]
  },
  {
   "cell_type": "code",
   "execution_count": 28,
   "metadata": {},
   "outputs": [],
   "source": [
    "# Adding clusters to dataset\n",
    "# 1. cluster id with scaler_1 i.e. minmaxscaler\n",
    "data['clustersid_s1']=H_clusters.labels_\n",
    "data\n",
    "\n",
    "data1['clustersid_s1']=H_clusters.labels_\n"
   ]
  },
  {
   "cell_type": "code",
   "execution_count": 26,
   "metadata": {},
   "outputs": [
    {
     "data": {
      "image/png": "[encoded data removed]",
      "text/plain": [
       "<Figure size 720x432 with 1 Axes>"
      ]
     },
     "metadata": {
      "needs_background": "light"
     },
     "output_type": "display_data"
    }
   ],
   "source": [
    "# Plotting barplot using groupby method to get visualization of how many row no. in each cluster\n",
    "\n",
    "fig, ax = plt.subplots(figsize=(10, 6))\n",
    "data.groupby(['clustersid_s1']).count()['ID'].plot(kind='bar')\n",
    "plt.ylabel('ID Counts')\n",
    "plt.title('Hierarchical Clustering',fontsize='large',fontweight='bold')\n",
    "ax.set_xlabel('Clusters', fontsize='large', fontweight='bold')\n",
    "ax.set_ylabel('ID counts', fontsize='large', fontweight='bold')\n",
    "plt.yticks(fontsize=15)\n",
    "plt.xticks(fontsize=15)\n",
    "plt.show()"
   ]
  },
  {
   "cell_type": "code",
   "execution_count": 29,
   "metadata": {},
   "outputs": [
    {
     "data": {
      "text/html": [
       "<div>\n",
       "<style scoped>\n",
       "    .dataframe tbody tr th:only-of-type {\n",
       "        vertical-align: middle;\n",
       "    }\n",
       "\n",
       "    .dataframe tbody tr th {\n",
       "        vertical-align: top;\n",
       "    }\n",
       "\n",
       "    .dataframe thead tr th {\n",
       "        text-align: left;\n",
       "    }\n",
       "</style>\n",
       "<table border=\"1\" class=\"dataframe\">\n",
       "  <thead>\n",
       "    <tr>\n",
       "      <th></th>\n",
       "      <th>clustersid_s1</th>\n",
       "      <th>Balance</th>\n",
       "      <th>Qual_miles</th>\n",
       "      <th>cc1_miles</th>\n",
       "      <th>cc2_miles</th>\n",
       "      <th>cc3_miles</th>\n",
       "      <th>Bonus_miles</th>\n",
       "      <th>Bonus_trans</th>\n",
       "      <th>Flight_miles_12mo</th>\n",
       "      <th>Flight_trans_12</th>\n",
       "      <th>Days_since_enroll</th>\n",
       "      <th>Award</th>\n",
       "    </tr>\n",
       "    <tr>\n",
       "      <th></th>\n",
       "      <th></th>\n",
       "      <th>mean</th>\n",
       "      <th>mean</th>\n",
       "      <th>mean</th>\n",
       "      <th>mean</th>\n",
       "      <th>mean</th>\n",
       "      <th>mean</th>\n",
       "      <th>mean</th>\n",
       "      <th>mean</th>\n",
       "      <th>mean</th>\n",
       "      <th>mean</th>\n",
       "      <th>mean</th>\n",
       "    </tr>\n",
       "  </thead>\n",
       "  <tbody>\n",
       "    <tr>\n",
       "      <th>0</th>\n",
       "      <td>0</td>\n",
       "      <td>79848.233615</td>\n",
       "      <td>285.097252</td>\n",
       "      <td>1.699789</td>\n",
       "      <td>1.024313</td>\n",
       "      <td>1.000000</td>\n",
       "      <td>12079.774841</td>\n",
       "      <td>12.133192</td>\n",
       "      <td>781.939746</td>\n",
       "      <td>2.369979</td>\n",
       "      <td>4372.173362</td>\n",
       "      <td>1</td>\n",
       "    </tr>\n",
       "    <tr>\n",
       "      <th>1</th>\n",
       "      <td>1</td>\n",
       "      <td>43313.653808</td>\n",
       "      <td>21.506429</td>\n",
       "      <td>1.000000</td>\n",
       "      <td>1.033630</td>\n",
       "      <td>1.000989</td>\n",
       "      <td>2562.614243</td>\n",
       "      <td>5.474777</td>\n",
       "      <td>169.510386</td>\n",
       "      <td>0.523244</td>\n",
       "      <td>4940.680514</td>\n",
       "      <td>0</td>\n",
       "    </tr>\n",
       "    <tr>\n",
       "      <th>2</th>\n",
       "      <td>2</td>\n",
       "      <td>106221.111386</td>\n",
       "      <td>161.262376</td>\n",
       "      <td>3.198020</td>\n",
       "      <td>1.001238</td>\n",
       "      <td>1.025990</td>\n",
       "      <td>26458.257426</td>\n",
       "      <td>16.363861</td>\n",
       "      <td>198.733911</td>\n",
       "      <td>0.558168</td>\n",
       "      <td>4367.250000</td>\n",
       "      <td>0</td>\n",
       "    </tr>\n",
       "    <tr>\n",
       "      <th>3</th>\n",
       "      <td>3</td>\n",
       "      <td>127475.028037</td>\n",
       "      <td>160.801869</td>\n",
       "      <td>4.362617</td>\n",
       "      <td>1.000000</td>\n",
       "      <td>1.050467</td>\n",
       "      <td>58656.919626</td>\n",
       "      <td>22.235514</td>\n",
       "      <td>991.110280</td>\n",
       "      <td>3.005607</td>\n",
       "      <td>5072.226168</td>\n",
       "      <td>1</td>\n",
       "    </tr>\n",
       "    <tr>\n",
       "      <th>4</th>\n",
       "      <td>4</td>\n",
       "      <td>30013.416309</td>\n",
       "      <td>98.054363</td>\n",
       "      <td>1.000000</td>\n",
       "      <td>1.000000</td>\n",
       "      <td>1.000000</td>\n",
       "      <td>2552.569385</td>\n",
       "      <td>6.101574</td>\n",
       "      <td>340.274678</td>\n",
       "      <td>0.948498</td>\n",
       "      <td>1568.864092</td>\n",
       "      <td>0</td>\n",
       "    </tr>\n",
       "  </tbody>\n",
       "</table>\n",
       "</div>"
      ],
      "text/plain": [
       "  clustersid_s1        Balance  Qual_miles cc1_miles cc2_miles cc3_miles  \\\n",
       "                          mean        mean      mean      mean      mean   \n",
       "0             0   79848.233615  285.097252  1.699789  1.024313  1.000000   \n",
       "1             1   43313.653808   21.506429  1.000000  1.033630  1.000989   \n",
       "2             2  106221.111386  161.262376  3.198020  1.001238  1.025990   \n",
       "3             3  127475.028037  160.801869  4.362617  1.000000  1.050467   \n",
       "4             4   30013.416309   98.054363  1.000000  1.000000  1.000000   \n",
       "\n",
       "    Bonus_miles Bonus_trans Flight_miles_12mo Flight_trans_12  \\\n",
       "           mean        mean              mean            mean   \n",
       "0  12079.774841   12.133192        781.939746        2.369979   \n",
       "1   2562.614243    5.474777        169.510386        0.523244   \n",
       "2  26458.257426   16.363861        198.733911        0.558168   \n",
       "3  58656.919626   22.235514        991.110280        3.005607   \n",
       "4   2552.569385    6.101574        340.274678        0.948498   \n",
       "\n",
       "  Days_since_enroll Award  \n",
       "               mean  mean  \n",
       "0       4372.173362     1  \n",
       "1       4940.680514     0  \n",
       "2       4367.250000     0  \n",
       "3       5072.226168     1  \n",
       "4       1568.864092     0  "
      ]
     },
     "execution_count": 29,
     "metadata": {},
     "output_type": "execute_result"
    }
   ],
   "source": [
    "data1.groupby('clustersid_s1').agg(['mean']).reset_index()"
   ]
  },
  {
   "cell_type": "code",
   "execution_count": 30,
   "metadata": {},
   "outputs": [],
   "source": [
    "# silhouette_score of AgglomerativeClustering\n",
    "from sklearn.metrics import silhouette_score"
   ]
  },
  {
   "cell_type": "code",
   "execution_count": 31,
   "metadata": {
    "scrolled": true
   },
   "outputs": [
    {
     "data": {
      "text/plain": [
       "0.3762586351398372"
      ]
     },
     "execution_count": 31,
     "metadata": {},
     "output_type": "execute_result"
    }
   ],
   "source": [
    "sil_score= silhouette_score(scaler1_df, H_clusters.labels_)\n",
    "sil_score"
   ]
  },
  {
   "cell_type": "code",
   "execution_count": 32,
   "metadata": {},
   "outputs": [
    {
     "data": {
      "text/plain": [
       "1    2446\n",
       "0    1362\n",
       "2     130\n",
       "3      43\n",
       "4      18\n",
       "Name: clustersid, dtype: int64"
      ]
     },
     "execution_count": 32,
     "metadata": {},
     "output_type": "execute_result"
    }
   ],
   "source": [
    "# Using data normalized by StandardScaler\n",
    "y=pd.DataFrame(H_clusters.fit_predict(scaler2_df),columns=['clustersid'])\n",
    "y['clustersid'].value_counts()"
   ]
  },
  {
   "cell_type": "code",
   "execution_count": 33,
   "metadata": {},
   "outputs": [],
   "source": [
    "# Adding clusters to dataset\n",
    "# 1. cluster id with scaler_1 i.e. StandardScaler\n",
    "data['clustersid_s2']=H_clusters.labels_\n",
    "data1['clustersid_s2']=H_clusters.labels_"
   ]
  },
  {
   "cell_type": "code",
   "execution_count": 34,
   "metadata": {
    "collapsed": true
   },
   "outputs": [
    {
     "data": {
      "image/png": "[encoded data removed]",
      "text/plain": [
       "<Figure size 720x432 with 1 Axes>"
      ]
     },
     "metadata": {
      "needs_background": "light"
     },
     "output_type": "display_data"
    }
   ],
   "source": [
    "# Plotting barplot using groupby method to get visualization of how many row no. in each cluster\n",
    "\n",
    "fig, ax = plt.subplots(figsize=(10, 6))\n",
    "data.groupby(['clustersid_s2']).count()['ID'].plot(kind='bar')\n",
    "plt.ylabel('ID Counts')\n",
    "plt.title('Hierarchical Clustering',fontsize='large',fontweight='bold')\n",
    "ax.set_xlabel('Clusters', fontsize='large', fontweight='bold')\n",
    "ax.set_ylabel('ID counts', fontsize='large', fontweight='bold')\n",
    "plt.yticks(fontsize=15)\n",
    "plt.xticks(fontsize=15)\n",
    "plt.show()"
   ]
  },
  {
   "cell_type": "code",
   "execution_count": 35,
   "metadata": {},
   "outputs": [
    {
     "data": {
      "text/html": [
       "<div>\n",
       "<style scoped>\n",
       "    .dataframe tbody tr th:only-of-type {\n",
       "        vertical-align: middle;\n",
       "    }\n",
       "\n",
       "    .dataframe tbody tr th {\n",
       "        vertical-align: top;\n",
       "    }\n",
       "\n",
       "    .dataframe thead tr th {\n",
       "        text-align: left;\n",
       "    }\n",
       "</style>\n",
       "<table border=\"1\" class=\"dataframe\">\n",
       "  <thead>\n",
       "    <tr>\n",
       "      <th></th>\n",
       "      <th>clustersid_s1</th>\n",
       "      <th>Balance</th>\n",
       "      <th>Qual_miles</th>\n",
       "      <th>cc1_miles</th>\n",
       "      <th>cc2_miles</th>\n",
       "      <th>cc3_miles</th>\n",
       "      <th>Bonus_miles</th>\n",
       "      <th>Bonus_trans</th>\n",
       "      <th>Flight_miles_12mo</th>\n",
       "      <th>Flight_trans_12</th>\n",
       "      <th>Days_since_enroll</th>\n",
       "      <th>Award</th>\n",
       "      <th>clustersid_s2</th>\n",
       "    </tr>\n",
       "    <tr>\n",
       "      <th></th>\n",
       "      <th></th>\n",
       "      <th>mean</th>\n",
       "      <th>mean</th>\n",
       "      <th>mean</th>\n",
       "      <th>mean</th>\n",
       "      <th>mean</th>\n",
       "      <th>mean</th>\n",
       "      <th>mean</th>\n",
       "      <th>mean</th>\n",
       "      <th>mean</th>\n",
       "      <th>mean</th>\n",
       "      <th>mean</th>\n",
       "      <th>mean</th>\n",
       "    </tr>\n",
       "  </thead>\n",
       "  <tbody>\n",
       "    <tr>\n",
       "      <th>0</th>\n",
       "      <td>0</td>\n",
       "      <td>79848.233615</td>\n",
       "      <td>285.097252</td>\n",
       "      <td>1.699789</td>\n",
       "      <td>1.024313</td>\n",
       "      <td>1.000000</td>\n",
       "      <td>12079.774841</td>\n",
       "      <td>12.133192</td>\n",
       "      <td>781.939746</td>\n",
       "      <td>2.369979</td>\n",
       "      <td>4372.173362</td>\n",
       "      <td>1</td>\n",
       "      <td>0.627907</td>\n",
       "    </tr>\n",
       "    <tr>\n",
       "      <th>1</th>\n",
       "      <td>1</td>\n",
       "      <td>43313.653808</td>\n",
       "      <td>21.506429</td>\n",
       "      <td>1.000000</td>\n",
       "      <td>1.033630</td>\n",
       "      <td>1.000989</td>\n",
       "      <td>2562.614243</td>\n",
       "      <td>5.474777</td>\n",
       "      <td>169.510386</td>\n",
       "      <td>0.523244</td>\n",
       "      <td>4940.680514</td>\n",
       "      <td>0</td>\n",
       "      <td>1.044510</td>\n",
       "    </tr>\n",
       "    <tr>\n",
       "      <th>2</th>\n",
       "      <td>2</td>\n",
       "      <td>106221.111386</td>\n",
       "      <td>161.262376</td>\n",
       "      <td>3.198020</td>\n",
       "      <td>1.001238</td>\n",
       "      <td>1.025990</td>\n",
       "      <td>26458.257426</td>\n",
       "      <td>16.363861</td>\n",
       "      <td>198.733911</td>\n",
       "      <td>0.558168</td>\n",
       "      <td>4367.250000</td>\n",
       "      <td>0</td>\n",
       "      <td>0.507426</td>\n",
       "    </tr>\n",
       "    <tr>\n",
       "      <th>3</th>\n",
       "      <td>3</td>\n",
       "      <td>127475.028037</td>\n",
       "      <td>160.801869</td>\n",
       "      <td>4.362617</td>\n",
       "      <td>1.000000</td>\n",
       "      <td>1.050467</td>\n",
       "      <td>58656.919626</td>\n",
       "      <td>22.235514</td>\n",
       "      <td>991.110280</td>\n",
       "      <td>3.005607</td>\n",
       "      <td>5072.226168</td>\n",
       "      <td>1</td>\n",
       "      <td>0.261682</td>\n",
       "    </tr>\n",
       "    <tr>\n",
       "      <th>4</th>\n",
       "      <td>4</td>\n",
       "      <td>30013.416309</td>\n",
       "      <td>98.054363</td>\n",
       "      <td>1.000000</td>\n",
       "      <td>1.000000</td>\n",
       "      <td>1.000000</td>\n",
       "      <td>2552.569385</td>\n",
       "      <td>6.101574</td>\n",
       "      <td>340.274678</td>\n",
       "      <td>0.948498</td>\n",
       "      <td>1568.864092</td>\n",
       "      <td>0</td>\n",
       "      <td>1.011445</td>\n",
       "    </tr>\n",
       "  </tbody>\n",
       "</table>\n",
       "</div>"
      ],
      "text/plain": [
       "  clustersid_s1        Balance  Qual_miles cc1_miles cc2_miles cc3_miles  \\\n",
       "                          mean        mean      mean      mean      mean   \n",
       "0             0   79848.233615  285.097252  1.699789  1.024313  1.000000   \n",
       "1             1   43313.653808   21.506429  1.000000  1.033630  1.000989   \n",
       "2             2  106221.111386  161.262376  3.198020  1.001238  1.025990   \n",
       "3             3  127475.028037  160.801869  4.362617  1.000000  1.050467   \n",
       "4             4   30013.416309   98.054363  1.000000  1.000000  1.000000   \n",
       "\n",
       "    Bonus_miles Bonus_trans Flight_miles_12mo Flight_trans_12  \\\n",
       "           mean        mean              mean            mean   \n",
       "0  12079.774841   12.133192        781.939746        2.369979   \n",
       "1   2562.614243    5.474777        169.510386        0.523244   \n",
       "2  26458.257426   16.363861        198.733911        0.558168   \n",
       "3  58656.919626   22.235514        991.110280        3.005607   \n",
       "4   2552.569385    6.101574        340.274678        0.948498   \n",
       "\n",
       "  Days_since_enroll Award clustersid_s2  \n",
       "               mean  mean          mean  \n",
       "0       4372.173362     1      0.627907  \n",
       "1       4940.680514     0      1.044510  \n",
       "2       4367.250000     0      0.507426  \n",
       "3       5072.226168     1      0.261682  \n",
       "4       1568.864092     0      1.011445  "
      ]
     },
     "execution_count": 35,
     "metadata": {},
     "output_type": "execute_result"
    }
   ],
   "source": [
    "data1.groupby('clustersid_s1').agg(['mean']).reset_index()"
   ]
  },
  {
   "cell_type": "code",
   "execution_count": 36,
   "metadata": {},
   "outputs": [
    {
     "data": {
      "text/plain": [
       "0.3098805307874414"
      ]
     },
     "execution_count": 36,
     "metadata": {},
     "output_type": "execute_result"
    }
   ],
   "source": [
    "# silhouette_score of AgglomerativeClustering\n",
    "from sklearn.metrics import silhouette_score\n",
    "\n",
    "sil_score= silhouette_score(scaler2_df, H_clusters.labels_)\n",
    "sil_score"
   ]
  },
  {
   "cell_type": "markdown",
   "metadata": {},
   "source": [
    "#  "
   ]
  },
  {
   "cell_type": "markdown",
   "metadata": {},
   "source": [
    "# K-MEANS Clustering"
   ]
  },
  {
   "cell_type": "code",
   "execution_count": 37,
   "metadata": {},
   "outputs": [],
   "source": [
    "# Import Library\n",
    "from sklearn.cluster import KMeans\n",
    "from yellowbrick.cluster import KElbowVisualizer"
   ]
  },
  {
   "cell_type": "code",
   "execution_count": 49,
   "metadata": {},
   "outputs": [],
   "source": [
    "scaler1 = MinMaxScaler()\n",
    "scaler2 = StandardScaler()"
   ]
  },
  {
   "cell_type": "code",
   "execution_count": 50,
   "metadata": {
    "collapsed": true
   },
   "outputs": [
    {
     "name": "stdout",
     "output_type": "stream",
     "text": [
      "[[0.01650773 0.         0.         ... 0.25       0.25       0.        ]\n",
      " [0.01128788 0.         0.         ... 0.25       0.25       0.        ]\n",
      " [0.02425685 0.         0.         ... 0.25       0.25       0.        ]\n",
      " ...\n",
      " [0.0431695  0.         0.5        ... 0.         0.         0.5       ]\n",
      " [0.03220189 0.         0.         ... 1.         0.25       0.75      ]\n",
      " [0.00176908 0.         0.         ... 1.         0.25       0.75      ]]\n",
      "\n",
      "\n",
      "[[-4.51140783e-01 -1.86298687e-01 -7.69578406e-01 ... -5.39219215e-01\n",
      "   4.41786398e-01 -1.25068788e+00]\n",
      " [-5.39456874e-01 -1.86298687e-01 -7.69578406e-01 ... -5.39219215e-01\n",
      "   4.41786398e-01 -1.25068788e+00]\n",
      " [-3.20031232e-01 -1.86298687e-01 -7.69578406e-01 ... -5.39219215e-01\n",
      "   4.41786398e-01 -1.25068788e+00]\n",
      " ...\n",
      " [-4.29480975e-05 -1.86298687e-01  6.83121167e-01 ... -1.25111675e+00\n",
      "  -1.17607423e+00  1.46184298e-01]\n",
      " [-1.85606976e-01 -1.86298687e-01 -7.69578406e-01 ...  1.59647340e+00\n",
      "   4.41786398e-01  8.44620389e-01]\n",
      " [-7.00507951e-01 -1.86298687e-01 -7.69578406e-01 ...  1.59647340e+00\n",
      "   4.41786398e-01  8.44620389e-01]]\n"
     ]
    }
   ],
   "source": [
    "# Normalizing Dataset\n",
    "scaler1_df = scaler1.fit_transform(data1)\n",
    "print(scaler1_df)\n",
    "\n",
    "print('\\n')\n",
    "\n",
    "scaler2_df = scaler2.fit_transform(data1)\n",
    "print(scaler2_df)"
   ]
  },
  {
   "cell_type": "markdown",
   "metadata": {},
   "source": [
    "#### The K-means algorithm aims to choose centroids that minimise the inertia, or within-cluster sum-of-squares criterion:"
   ]
  },
  {
   "cell_type": "code",
   "execution_count": 51,
   "metadata": {
    "collapsed": true
   },
   "outputs": [
    {
     "data": {
      "image/png": "[encoded data removed]",
      "text/plain": [
       "<Figure size 576x396 with 1 Axes>"
      ]
     },
     "metadata": {},
     "output_type": "display_data"
    }
   ],
   "source": [
    "# Using data normalized by MinMaxScaler\n",
    "wcss = []\n",
    "for i in range(1, 11):\n",
    "    kmeans = KMeans(n_clusters=i,random_state=0)\n",
    "    kmeans.fit(scaler1_df)\n",
    "    wcss.append(kmeans.inertia_)\n",
    "    \n",
    "plt.plot(range(1, 11), wcss)\n",
    "plt.title('Elbow Method')\n",
    "plt.xlabel('Number of clusters')\n",
    "plt.ylabel('WCSS')\n",
    "plt.show()"
   ]
  },
  {
   "cell_type": "code",
   "execution_count": 52,
   "metadata": {
    "collapsed": true
   },
   "outputs": [
    {
     "data": {
      "image/png": "[encoded data removed]",
      "text/plain": [
       "<Figure size 576x396 with 1 Axes>"
      ]
     },
     "metadata": {},
     "output_type": "display_data"
    }
   ],
   "source": [
    "# Using data normalized by StandardScaler\n",
    "wcss = []\n",
    "for i in range(1, 11):\n",
    "    kmeans = KMeans(n_clusters=i,random_state=0)\n",
    "    kmeans.fit(scaler2_df)\n",
    "    wcss.append(kmeans.inertia_)\n",
    "    \n",
    "plt.plot(range(1, 11), wcss)\n",
    "plt.title('Elbow Method')\n",
    "plt.xlabel('Number of clusters')\n",
    "plt.ylabel('WCSS')\n",
    "plt.show()"
   ]
  },
  {
   "cell_type": "markdown",
   "metadata": {},
   "source": [
    "#### From above two Scree plots, optimum number of clusters can be selected equal to 5 "
   ]
  },
  {
   "cell_type": "code",
   "execution_count": 53,
   "metadata": {},
   "outputs": [
    {
     "name": "stdout",
     "output_type": "stream",
     "text": [
      "Silhouette Score for data normalized by MinMaxScaler:  0.6283736725291583\n",
      "Silhouette Score for data normalized by StandardScaler:  0.30661425823081473\n"
     ]
    }
   ],
   "source": [
    "#Build Cluster algorithm\n",
    "\n",
    "\n",
    "# Using data normalized by MinMaxScaler\n",
    "clusters_new1 = KMeans(5, random_state=42)\n",
    "clusters_new1.fit(scaler1_df)\n",
    "\n",
    "sil_score= silhouette_score(scaler1_df, clusters_new1.labels_)\n",
    "print('Silhouette Score for data normalized by MinMaxScaler: ',sil_score)\n",
    "\n",
    "# Using data normalized by StandardScaler\n",
    "clusters_new2 = KMeans(5, random_state=42)\n",
    "clusters_new2.fit(scaler2_df)\n",
    "\n",
    "sil_score= silhouette_score(scaler2_df, clusters_new2.labels_)\n",
    "print('Silhouette Score for data normalized by StandardScaler: ',sil_score)"
   ]
  },
  {
   "cell_type": "raw",
   "metadata": {},
   "source": [
    "We can see that Silhouette Score for data normalized by MinMaxScaler is greater than data normalized by StandardScaler, \n",
    "so we will consider data normalized by MinMaxScaler for further computation  "
   ]
  },
  {
   "cell_type": "code",
   "execution_count": 54,
   "metadata": {},
   "outputs": [],
   "source": [
    "#Assign clusters to the data set\n",
    "data['clusterid_Kmeans'] = clusters_new1.labels_\n",
    "data1['clusterid_Kmeans'] = clusters_new1.labels_"
   ]
  },
  {
   "cell_type": "code",
   "execution_count": 55,
   "metadata": {},
   "outputs": [
    {
     "data": {
      "text/plain": [
       "1    1149\n",
       "2     948\n",
       "3     733\n",
       "0     636\n",
       "4     533\n",
       "Name: clusterid_Kmeans, dtype: int64"
      ]
     },
     "execution_count": 55,
     "metadata": {},
     "output_type": "execute_result"
    }
   ],
   "source": [
    "y=pd.DataFrame(clusters_new1.fit_predict(scaler1_df),columns=['clusterid_Kmeans'])\n",
    "y['clusterid_Kmeans'].value_counts()"
   ]
  },
  {
   "cell_type": "code",
   "execution_count": 56,
   "metadata": {
    "collapsed": true
   },
   "outputs": [
    {
     "data": {
      "image/png": "[encoded data removed]",
      "text/plain": [
       "<Figure size 720x432 with 1 Axes>"
      ]
     },
     "metadata": {},
     "output_type": "display_data"
    }
   ],
   "source": [
    "# Plotting barplot using groupby method to get visualization of how many row no. in each cluster\n",
    "\n",
    "fig, ax = plt.subplots(figsize=(10, 6))\n",
    "data.groupby(['clusterid_Kmeans']).count()['ID'].plot(kind='bar')\n",
    "plt.ylabel('ID Counts')\n",
    "plt.title('Hierarchical Clustering',fontsize='large',fontweight='bold')\n",
    "ax.set_xlabel('Clusters', fontsize='large', fontweight='bold')\n",
    "ax.set_ylabel('ID counts', fontsize='large', fontweight='bold')\n",
    "plt.yticks(fontsize=15)\n",
    "plt.xticks(fontsize=15)\n",
    "plt.show()"
   ]
  },
  {
   "cell_type": "code",
   "execution_count": 57,
   "metadata": {
    "collapsed": true
   },
   "outputs": [
    {
     "data": {
      "text/html": [
       "<div>\n",
       "<style scoped>\n",
       "    .dataframe tbody tr th:only-of-type {\n",
       "        vertical-align: middle;\n",
       "    }\n",
       "\n",
       "    .dataframe tbody tr th {\n",
       "        vertical-align: top;\n",
       "    }\n",
       "\n",
       "    .dataframe thead tr th {\n",
       "        text-align: left;\n",
       "    }\n",
       "</style>\n",
       "<table border=\"1\" class=\"dataframe\">\n",
       "  <thead>\n",
       "    <tr>\n",
       "      <th></th>\n",
       "      <th>clusterid_Kmeans</th>\n",
       "      <th>Balance</th>\n",
       "      <th>Qual_miles</th>\n",
       "      <th>cc1_miles</th>\n",
       "      <th>cc2_miles</th>\n",
       "      <th>cc3_miles</th>\n",
       "      <th>Bonus_miles</th>\n",
       "      <th>Bonus_trans</th>\n",
       "      <th>Flight_miles_12mo</th>\n",
       "      <th>Flight_trans_12</th>\n",
       "      <th>Days_since_enroll</th>\n",
       "      <th>Award</th>\n",
       "      <th>clustersid_s1</th>\n",
       "      <th>clustersid_s2</th>\n",
       "    </tr>\n",
       "    <tr>\n",
       "      <th></th>\n",
       "      <th></th>\n",
       "      <th>mean</th>\n",
       "      <th>mean</th>\n",
       "      <th>mean</th>\n",
       "      <th>mean</th>\n",
       "      <th>mean</th>\n",
       "      <th>mean</th>\n",
       "      <th>mean</th>\n",
       "      <th>mean</th>\n",
       "      <th>mean</th>\n",
       "      <th>mean</th>\n",
       "      <th>mean</th>\n",
       "      <th>mean</th>\n",
       "      <th>mean</th>\n",
       "    </tr>\n",
       "  </thead>\n",
       "  <tbody>\n",
       "    <tr>\n",
       "      <th>0</th>\n",
       "      <td>0</td>\n",
       "      <td>116748.240566</td>\n",
       "      <td>97.562893</td>\n",
       "      <td>3.539308</td>\n",
       "      <td>1.001572</td>\n",
       "      <td>1.022013</td>\n",
       "      <td>30909.416667</td>\n",
       "      <td>17.316038</td>\n",
       "      <td>224.990566</td>\n",
       "      <td>0.633648</td>\n",
       "      <td>4377.693396</td>\n",
       "      <td>0</td>\n",
       "      <td>2.000000</td>\n",
       "      <td>0.382075</td>\n",
       "    </tr>\n",
       "    <tr>\n",
       "      <th>1</th>\n",
       "      <td>1</td>\n",
       "      <td>46690.907746</td>\n",
       "      <td>73.708442</td>\n",
       "      <td>1.109661</td>\n",
       "      <td>1.029591</td>\n",
       "      <td>1.003481</td>\n",
       "      <td>3373.703220</td>\n",
       "      <td>6.397737</td>\n",
       "      <td>179.272411</td>\n",
       "      <td>0.546562</td>\n",
       "      <td>4954.653612</td>\n",
       "      <td>0</td>\n",
       "      <td>1.125326</td>\n",
       "      <td>1.035683</td>\n",
       "    </tr>\n",
       "    <tr>\n",
       "      <th>2</th>\n",
       "      <td>2</td>\n",
       "      <td>80071.828059</td>\n",
       "      <td>276.433544</td>\n",
       "      <td>1.694093</td>\n",
       "      <td>1.024262</td>\n",
       "      <td>1.002110</td>\n",
       "      <td>12186.982068</td>\n",
       "      <td>12.262658</td>\n",
       "      <td>827.800633</td>\n",
       "      <td>2.483122</td>\n",
       "      <td>4367.631857</td>\n",
       "      <td>1</td>\n",
       "      <td>0.009494</td>\n",
       "      <td>0.635021</td>\n",
       "    </tr>\n",
       "    <tr>\n",
       "      <th>3</th>\n",
       "      <td>3</td>\n",
       "      <td>30963.718963</td>\n",
       "      <td>100.739427</td>\n",
       "      <td>1.047749</td>\n",
       "      <td>1.000000</td>\n",
       "      <td>1.005457</td>\n",
       "      <td>3026.667121</td>\n",
       "      <td>6.354707</td>\n",
       "      <td>301.126876</td>\n",
       "      <td>0.834925</td>\n",
       "      <td>1559.743520</td>\n",
       "      <td>0</td>\n",
       "      <td>3.899045</td>\n",
       "      <td>1.009550</td>\n",
       "    </tr>\n",
       "    <tr>\n",
       "      <th>4</th>\n",
       "      <td>4</td>\n",
       "      <td>127256.052533</td>\n",
       "      <td>175.744841</td>\n",
       "      <td>4.382739</td>\n",
       "      <td>1.000000</td>\n",
       "      <td>1.046904</td>\n",
       "      <td>58641.013133</td>\n",
       "      <td>22.043152</td>\n",
       "      <td>910.326454</td>\n",
       "      <td>2.806754</td>\n",
       "      <td>5082.930582</td>\n",
       "      <td>1</td>\n",
       "      <td>2.994371</td>\n",
       "      <td>0.247655</td>\n",
       "    </tr>\n",
       "  </tbody>\n",
       "</table>\n",
       "</div>"
      ],
      "text/plain": [
       "  clusterid_Kmeans        Balance  Qual_miles cc1_miles cc2_miles cc3_miles  \\\n",
       "                             mean        mean      mean      mean      mean   \n",
       "0                0  116748.240566   97.562893  3.539308  1.001572  1.022013   \n",
       "1                1   46690.907746   73.708442  1.109661  1.029591  1.003481   \n",
       "2                2   80071.828059  276.433544  1.694093  1.024262  1.002110   \n",
       "3                3   30963.718963  100.739427  1.047749  1.000000  1.005457   \n",
       "4                4  127256.052533  175.744841  4.382739  1.000000  1.046904   \n",
       "\n",
       "    Bonus_miles Bonus_trans Flight_miles_12mo Flight_trans_12  \\\n",
       "           mean        mean              mean            mean   \n",
       "0  30909.416667   17.316038        224.990566        0.633648   \n",
       "1   3373.703220    6.397737        179.272411        0.546562   \n",
       "2  12186.982068   12.262658        827.800633        2.483122   \n",
       "3   3026.667121    6.354707        301.126876        0.834925   \n",
       "4  58641.013133   22.043152        910.326454        2.806754   \n",
       "\n",
       "  Days_since_enroll Award clustersid_s1 clustersid_s2  \n",
       "               mean  mean          mean          mean  \n",
       "0       4377.693396     0      2.000000      0.382075  \n",
       "1       4954.653612     0      1.125326      1.035683  \n",
       "2       4367.631857     1      0.009494      0.635021  \n",
       "3       1559.743520     0      3.899045      1.009550  \n",
       "4       5082.930582     1      2.994371      0.247655  "
      ]
     },
     "execution_count": 57,
     "metadata": {},
     "output_type": "execute_result"
    }
   ],
   "source": [
    "data1.groupby('clusterid_Kmeans').agg(['mean']).reset_index()"
   ]
  },
  {
   "cell_type": "markdown",
   "metadata": {},
   "source": [
    "# "
   ]
  },
  {
   "cell_type": "markdown",
   "metadata": {},
   "source": [
    "# DBSCAN"
   ]
  },
  {
   "cell_type": "code",
   "execution_count": 48,
   "metadata": {},
   "outputs": [],
   "source": [
    "from sklearn.cluster import DBSCAN"
   ]
  },
  {
   "cell_type": "code",
   "execution_count": 66,
   "metadata": {
    "collapsed": true
   },
   "outputs": [
    {
     "name": "stdout",
     "output_type": "stream",
     "text": [
      "[[0.01650773 0.         0.         ... 0.25       0.25       0.5       ]\n",
      " [0.01128788 0.         0.         ... 0.25       0.25       0.5       ]\n",
      " [0.02425685 0.         0.         ... 0.25       0.25       0.5       ]\n",
      " ...\n",
      " [0.0431695  0.         0.5        ... 0.         0.5        1.        ]\n",
      " [0.03220189 0.         0.         ... 0.25       0.75       0.5       ]\n",
      " [0.00176908 0.         0.         ... 0.25       0.75       0.5       ]]\n"
     ]
    }
   ],
   "source": [
    "# Normalizing data using MinMaxScaler\n",
    "scaler1_df = scaler1.fit_transform(data1)\n",
    "print(scaler1_df)"
   ]
  },
  {
   "cell_type": "markdown",
   "metadata": {},
   "source": [
    "#### We will try for different values of eps and mn_samples "
   ]
  },
  {
   "cell_type": "code",
   "execution_count": 60,
   "metadata": {},
   "outputs": [
    {
     "data": {
      "text/plain": [
       "DBSCAN(eps=1, min_samples=12)"
      ]
     },
     "execution_count": 60,
     "metadata": {},
     "output_type": "execute_result"
    }
   ],
   "source": [
    "# Using data normalized by MinMaxScaler\n",
    "dbscan = DBSCAN(eps=1, min_samples=12)\n",
    "dbscan.fit(scaler1_df)"
   ]
  },
  {
   "cell_type": "code",
   "execution_count": 61,
   "metadata": {},
   "outputs": [
    {
     "data": {
      "text/plain": [
       "array([0, 0, 0, ..., 1, 0, 0], dtype=int64)"
      ]
     },
     "execution_count": 61,
     "metadata": {},
     "output_type": "execute_result"
    }
   ],
   "source": [
    "#Noisy samples are given the label -1.\n",
    "dbscan.labels_"
   ]
  },
  {
   "cell_type": "code",
   "execution_count": 64,
   "metadata": {
    "scrolled": true
   },
   "outputs": [
    {
     "data": {
      "text/plain": [
       " 0    2518\n",
       " 1    1479\n",
       "-1       2\n",
       "Name: clusterid_DBSCAN, dtype: int64"
      ]
     },
     "execution_count": 64,
     "metadata": {},
     "output_type": "execute_result"
    }
   ],
   "source": [
    "y=pd.DataFrame(dbscan.fit_predict(scaler1_df),columns=['clusterid_DBSCAN'])\n",
    "y['clusterid_DBSCAN'].value_counts()"
   ]
  },
  {
   "cell_type": "code",
   "execution_count": 75,
   "metadata": {},
   "outputs": [
    {
     "data": {
      "text/plain": [
       "0.4768881980581555"
      ]
     },
     "execution_count": 75,
     "metadata": {},
     "output_type": "execute_result"
    }
   ],
   "source": [
    "# silhouette score\n",
    "sil_score= silhouette_score(scaler1_df, dbscan.labels_)\n",
    "sil_score"
   ]
  },
  {
   "cell_type": "code",
   "execution_count": 65,
   "metadata": {
    "collapsed": true
   },
   "outputs": [
    {
     "data": {
      "image/png": "[encoded data removed]",
      "text/plain": [
       "<Figure size 720x432 with 1 Axes>"
      ]
     },
     "metadata": {},
     "output_type": "display_data"
    }
   ],
   "source": [
    "# Plotting barplot using groupby method to get visualization of how many row no. in each cluster\n",
    "\n",
    "fig, ax = plt.subplots(figsize=(10, 6))\n",
    "data.groupby(['clusterid_DBSCAN']).count()['ID'].plot(kind='bar')\n",
    "plt.ylabel('ID Counts')\n",
    "plt.title('Hierarchical Clustering',fontsize='large',fontweight='bold')\n",
    "ax.set_xlabel('Clusters', fontsize='large', fontweight='bold')\n",
    "ax.set_ylabel('ID counts', fontsize='large', fontweight='bold')\n",
    "plt.yticks(fontsize=15)\n",
    "plt.xticks(fontsize=15)\n",
    "plt.show()"
   ]
  },
  {
   "cell_type": "markdown",
   "metadata": {},
   "source": [
    "#### As more than 50% of data is in one cluster, we will try for lower value of epsilon"
   ]
  },
  {
   "cell_type": "code",
   "execution_count": 77,
   "metadata": {},
   "outputs": [
    {
     "name": "stdout",
     "output_type": "stream",
     "text": [
      " 0    2514\n",
      " 2     946\n",
      " 1     531\n",
      "-1       8\n",
      "Name: clusterid_DBSCAN, dtype: int64\n",
      "silhouette score:  0.5145392244690805\n"
     ]
    }
   ],
   "source": [
    "# for epsilon = 0.8\n",
    "dbscan1 = DBSCAN(eps=0.8, min_samples=12)\n",
    "dbscan1.fit(scaler1_df)\n",
    "\n",
    "y=pd.DataFrame(dbscan1.fit_predict(scaler1_df),columns=['clusterid_DBSCAN'])\n",
    "print(y['clusterid_DBSCAN'].value_counts())\n",
    "\n",
    "# silhouette score\n",
    "sil_score= silhouette_score(scaler1_df, dbscan1.labels_)\n",
    "print('silhouette score: ',sil_score)"
   ]
  },
  {
   "cell_type": "code",
   "execution_count": 80,
   "metadata": {},
   "outputs": [
    {
     "name": "stdout",
     "output_type": "stream",
     "text": [
      " 0    2508\n",
      " 2     942\n",
      " 1     523\n",
      "-1      26\n",
      "Name: clusterid_DBSCAN, dtype: int64\n",
      "silhouette score:  0.5142748062860912\n"
     ]
    }
   ],
   "source": [
    "# for epsilon = 0.6\n",
    "dbscan2 = DBSCAN(eps=0.6, min_samples=12)\n",
    "dbscan2.fit(scaler1_df)\n",
    "\n",
    "y=pd.DataFrame(dbscan2.fit_predict(scaler1_df),columns=['clusterid_DBSCAN'])\n",
    "print(y['clusterid_DBSCAN'].value_counts())\n",
    "\n",
    "# silhouette score\n",
    "sil_score= silhouette_score(scaler1_df, dbscan2.labels_)\n",
    "print('silhouette score: ',sil_score)"
   ]
  },
  {
   "cell_type": "code",
   "execution_count": 81,
   "metadata": {},
   "outputs": [
    {
     "name": "stdout",
     "output_type": "stream",
     "text": [
      " 0    1745\n",
      " 2     925\n",
      " 5     696\n",
      " 1     474\n",
      "-1      60\n",
      " 3      48\n",
      " 6      35\n",
      " 4      16\n",
      "Name: clusterid_DBSCAN, dtype: int64\n",
      "silhouette score:  0.45952135064701993\n"
     ]
    }
   ],
   "source": [
    "# for epsilon = 0.5\n",
    "dbscan3 = DBSCAN(eps=0.5, min_samples=12)\n",
    "dbscan3.fit(scaler1_df)\n",
    "\n",
    "y=pd.DataFrame(dbscan3.fit_predict(scaler1_df),columns=['clusterid_DBSCAN'])\n",
    "print(y['clusterid_DBSCAN'].value_counts())\n",
    "\n",
    "# silhouette score\n",
    "sil_score= silhouette_score(scaler1_df, dbscan3.labels_)\n",
    "print('silhouette score: ',sil_score)"
   ]
  },
  {
   "cell_type": "code",
   "execution_count": 82,
   "metadata": {},
   "outputs": [
    {
     "name": "stdout",
     "output_type": "stream",
     "text": [
      " 0    1784\n",
      " 2     926\n",
      " 4     699\n",
      " 1     523\n",
      "-1      30\n",
      " 3      25\n",
      " 5      12\n",
      "Name: clusterid_DBSCAN, dtype: int64\n",
      "silhouette score:  0.5326424930048578\n"
     ]
    }
   ],
   "source": [
    "# for epsilon = 0.55\n",
    "dbscan4 = DBSCAN(eps=0.55, min_samples=12)\n",
    "dbscan4.fit(scaler1_df)\n",
    "\n",
    "y=pd.DataFrame(dbscan4.fit_predict(scaler1_df),columns=['clusterid_DBSCAN'])\n",
    "print(y['clusterid_DBSCAN'].value_counts())\n",
    "\n",
    "# silhouette score\n",
    "sil_score= silhouette_score(scaler1_df, dbscan4.labels_)\n",
    "print('silhouette score: ',sil_score)"
   ]
  },
  {
   "cell_type": "markdown",
   "metadata": {},
   "source": [
    "#### When we have value of epsilon = 0.55, we are getting 6 clusters with data less than 50% in one cluster and also, silhouette score is more as compared to other dbscan models. \n",
    "#### -1 shows the noisy data points"
   ]
  },
  {
   "cell_type": "code",
   "execution_count": 84,
   "metadata": {},
   "outputs": [],
   "source": [
    "data['clusterid_DBSCAN'] = dbscan4.labels_\n",
    "data1['clusterid_DBSCAN'] = dbscan4.labels_"
   ]
  },
  {
   "cell_type": "code",
   "execution_count": 85,
   "metadata": {
    "collapsed": true
   },
   "outputs": [
    {
     "data": {
      "text/html": [
       "<div>\n",
       "<style scoped>\n",
       "    .dataframe tbody tr th:only-of-type {\n",
       "        vertical-align: middle;\n",
       "    }\n",
       "\n",
       "    .dataframe tbody tr th {\n",
       "        vertical-align: top;\n",
       "    }\n",
       "\n",
       "    .dataframe thead th {\n",
       "        text-align: right;\n",
       "    }\n",
       "</style>\n",
       "<table border=\"1\" class=\"dataframe\">\n",
       "  <thead>\n",
       "    <tr style=\"text-align: right;\">\n",
       "      <th></th>\n",
       "      <th>ID</th>\n",
       "      <th>Balance</th>\n",
       "      <th>Qual_miles</th>\n",
       "      <th>cc1_miles</th>\n",
       "      <th>cc2_miles</th>\n",
       "      <th>cc3_miles</th>\n",
       "      <th>Bonus_miles</th>\n",
       "      <th>Bonus_trans</th>\n",
       "      <th>Flight_miles_12mo</th>\n",
       "      <th>Flight_trans_12</th>\n",
       "      <th>Days_since_enroll</th>\n",
       "      <th>Award</th>\n",
       "      <th>clustersid_s1</th>\n",
       "      <th>clustersid_s2</th>\n",
       "      <th>clusterid_Kmeans</th>\n",
       "      <th>clusterid_DBSCAN</th>\n",
       "    </tr>\n",
       "  </thead>\n",
       "  <tbody>\n",
       "    <tr>\n",
       "      <th>0</th>\n",
       "      <td>1</td>\n",
       "      <td>28143</td>\n",
       "      <td>0</td>\n",
       "      <td>1</td>\n",
       "      <td>1</td>\n",
       "      <td>1</td>\n",
       "      <td>174</td>\n",
       "      <td>1</td>\n",
       "      <td>0</td>\n",
       "      <td>0</td>\n",
       "      <td>7000</td>\n",
       "      <td>0</td>\n",
       "      <td>1</td>\n",
       "      <td>1</td>\n",
       "      <td>1</td>\n",
       "      <td>0</td>\n",
       "    </tr>\n",
       "    <tr>\n",
       "      <th>1</th>\n",
       "      <td>2</td>\n",
       "      <td>19244</td>\n",
       "      <td>0</td>\n",
       "      <td>1</td>\n",
       "      <td>1</td>\n",
       "      <td>1</td>\n",
       "      <td>215</td>\n",
       "      <td>2</td>\n",
       "      <td>0</td>\n",
       "      <td>0</td>\n",
       "      <td>6968</td>\n",
       "      <td>0</td>\n",
       "      <td>1</td>\n",
       "      <td>1</td>\n",
       "      <td>1</td>\n",
       "      <td>0</td>\n",
       "    </tr>\n",
       "    <tr>\n",
       "      <th>2</th>\n",
       "      <td>3</td>\n",
       "      <td>41354</td>\n",
       "      <td>0</td>\n",
       "      <td>1</td>\n",
       "      <td>1</td>\n",
       "      <td>1</td>\n",
       "      <td>4123</td>\n",
       "      <td>4</td>\n",
       "      <td>0</td>\n",
       "      <td>0</td>\n",
       "      <td>7034</td>\n",
       "      <td>0</td>\n",
       "      <td>1</td>\n",
       "      <td>1</td>\n",
       "      <td>1</td>\n",
       "      <td>0</td>\n",
       "    </tr>\n",
       "    <tr>\n",
       "      <th>3</th>\n",
       "      <td>4</td>\n",
       "      <td>14776</td>\n",
       "      <td>0</td>\n",
       "      <td>1</td>\n",
       "      <td>1</td>\n",
       "      <td>1</td>\n",
       "      <td>500</td>\n",
       "      <td>1</td>\n",
       "      <td>0</td>\n",
       "      <td>0</td>\n",
       "      <td>6952</td>\n",
       "      <td>0</td>\n",
       "      <td>1</td>\n",
       "      <td>1</td>\n",
       "      <td>1</td>\n",
       "      <td>0</td>\n",
       "    </tr>\n",
       "    <tr>\n",
       "      <th>4</th>\n",
       "      <td>5</td>\n",
       "      <td>97752</td>\n",
       "      <td>0</td>\n",
       "      <td>4</td>\n",
       "      <td>1</td>\n",
       "      <td>1</td>\n",
       "      <td>43300</td>\n",
       "      <td>26</td>\n",
       "      <td>2077</td>\n",
       "      <td>4</td>\n",
       "      <td>6935</td>\n",
       "      <td>1</td>\n",
       "      <td>3</td>\n",
       "      <td>0</td>\n",
       "      <td>4</td>\n",
       "      <td>1</td>\n",
       "    </tr>\n",
       "  </tbody>\n",
       "</table>\n",
       "</div>"
      ],
      "text/plain": [
       "   ID  Balance  Qual_miles  cc1_miles  cc2_miles  cc3_miles  Bonus_miles  \\\n",
       "0   1    28143           0          1          1          1          174   \n",
       "1   2    19244           0          1          1          1          215   \n",
       "2   3    41354           0          1          1          1         4123   \n",
       "3   4    14776           0          1          1          1          500   \n",
       "4   5    97752           0          4          1          1        43300   \n",
       "\n",
       "   Bonus_trans  Flight_miles_12mo  Flight_trans_12  Days_since_enroll  Award  \\\n",
       "0            1                  0                0               7000      0   \n",
       "1            2                  0                0               6968      0   \n",
       "2            4                  0                0               7034      0   \n",
       "3            1                  0                0               6952      0   \n",
       "4           26               2077                4               6935      1   \n",
       "\n",
       "   clustersid_s1  clustersid_s2  clusterid_Kmeans  clusterid_DBSCAN  \n",
       "0              1              1                 1                 0  \n",
       "1              1              1                 1                 0  \n",
       "2              1              1                 1                 0  \n",
       "3              1              1                 1                 0  \n",
       "4              3              0                 4                 1  "
      ]
     },
     "execution_count": 85,
     "metadata": {},
     "output_type": "execute_result"
    }
   ],
   "source": [
    "data.head()"
   ]
  },
  {
   "cell_type": "code",
   "execution_count": 86,
   "metadata": {
    "collapsed": true
   },
   "outputs": [
    {
     "data": {
      "image/png": "[encoded data removed]",
      "text/plain": [
       "<Figure size 720x432 with 1 Axes>"
      ]
     },
     "metadata": {},
     "output_type": "display_data"
    }
   ],
   "source": [
    "# Plotting barplot using groupby method to get visualization of how many row no. in each cluster\n",
    "\n",
    "fig, ax = plt.subplots(figsize=(10, 6))\n",
    "data.groupby(['clusterid_DBSCAN']).count()['ID'].plot(kind='bar')\n",
    "plt.ylabel('ID Counts')\n",
    "plt.title('Hierarchical Clustering',fontsize='large',fontweight='bold')\n",
    "ax.set_xlabel('Clusters', fontsize='large', fontweight='bold')\n",
    "ax.set_ylabel('ID counts', fontsize='large', fontweight='bold')\n",
    "plt.yticks(fontsize=15)\n",
    "plt.xticks(fontsize=15)\n",
    "plt.show()"
   ]
  },
  {
   "cell_type": "code",
   "execution_count": 87,
   "metadata": {
    "scrolled": true
   },
   "outputs": [
    {
     "data": {
      "text/html": [
       "<div>\n",
       "<style scoped>\n",
       "    .dataframe tbody tr th:only-of-type {\n",
       "        vertical-align: middle;\n",
       "    }\n",
       "\n",
       "    .dataframe tbody tr th {\n",
       "        vertical-align: top;\n",
       "    }\n",
       "\n",
       "    .dataframe thead tr th {\n",
       "        text-align: left;\n",
       "    }\n",
       "</style>\n",
       "<table border=\"1\" class=\"dataframe\">\n",
       "  <thead>\n",
       "    <tr>\n",
       "      <th></th>\n",
       "      <th>clusterid_DBSCAN</th>\n",
       "      <th>Balance</th>\n",
       "      <th>Qual_miles</th>\n",
       "      <th>cc1_miles</th>\n",
       "      <th>cc2_miles</th>\n",
       "      <th>cc3_miles</th>\n",
       "      <th>Bonus_miles</th>\n",
       "      <th>Bonus_trans</th>\n",
       "      <th>Flight_miles_12mo</th>\n",
       "      <th>Flight_trans_12</th>\n",
       "      <th>Days_since_enroll</th>\n",
       "      <th>Award</th>\n",
       "      <th>clustersid_s1</th>\n",
       "      <th>clustersid_s2</th>\n",
       "      <th>clusterid_Kmeans</th>\n",
       "    </tr>\n",
       "    <tr>\n",
       "      <th></th>\n",
       "      <th></th>\n",
       "      <th>mean</th>\n",
       "      <th>mean</th>\n",
       "      <th>mean</th>\n",
       "      <th>mean</th>\n",
       "      <th>mean</th>\n",
       "      <th>mean</th>\n",
       "      <th>mean</th>\n",
       "      <th>mean</th>\n",
       "      <th>mean</th>\n",
       "      <th>mean</th>\n",
       "      <th>mean</th>\n",
       "      <th>mean</th>\n",
       "      <th>mean</th>\n",
       "      <th>mean</th>\n",
       "    </tr>\n",
       "  </thead>\n",
       "  <tbody>\n",
       "    <tr>\n",
       "      <th>0</th>\n",
       "      <td>-1</td>\n",
       "      <td>183411.700000</td>\n",
       "      <td>429.833333</td>\n",
       "      <td>2.833333</td>\n",
       "      <td>1.333333</td>\n",
       "      <td>2.633333</td>\n",
       "      <td>72041.633333</td>\n",
       "      <td>30.533333</td>\n",
       "      <td>3054.166667</td>\n",
       "      <td>8.600000</td>\n",
       "      <td>4367.433333</td>\n",
       "      <td>0.666667</td>\n",
       "      <td>1.833333</td>\n",
       "      <td>3.200000</td>\n",
       "      <td>2.166667</td>\n",
       "    </tr>\n",
       "    <tr>\n",
       "      <th>1</th>\n",
       "      <td>0</td>\n",
       "      <td>71081.591928</td>\n",
       "      <td>85.225897</td>\n",
       "      <td>1.984305</td>\n",
       "      <td>1.000000</td>\n",
       "      <td>1.000000</td>\n",
       "      <td>12937.807175</td>\n",
       "      <td>10.196188</td>\n",
       "      <td>182.400224</td>\n",
       "      <td>0.536435</td>\n",
       "      <td>4705.659753</td>\n",
       "      <td>0.000000</td>\n",
       "      <td>1.447870</td>\n",
       "      <td>0.757848</td>\n",
       "      <td>0.687780</td>\n",
       "    </tr>\n",
       "    <tr>\n",
       "      <th>2</th>\n",
       "      <td>1</td>\n",
       "      <td>128144.883365</td>\n",
       "      <td>159.577438</td>\n",
       "      <td>4.384321</td>\n",
       "      <td>1.000000</td>\n",
       "      <td>1.000000</td>\n",
       "      <td>57731.363289</td>\n",
       "      <td>21.841300</td>\n",
       "      <td>878.879541</td>\n",
       "      <td>2.755258</td>\n",
       "      <td>5092.133843</td>\n",
       "      <td>1.000000</td>\n",
       "      <td>3.000000</td>\n",
       "      <td>0.187380</td>\n",
       "      <td>4.000000</td>\n",
       "    </tr>\n",
       "    <tr>\n",
       "      <th>3</th>\n",
       "      <td>2</td>\n",
       "      <td>77576.992441</td>\n",
       "      <td>280.104752</td>\n",
       "      <td>1.707343</td>\n",
       "      <td>1.000000</td>\n",
       "      <td>1.000000</td>\n",
       "      <td>11772.331533</td>\n",
       "      <td>11.903888</td>\n",
       "      <td>768.916847</td>\n",
       "      <td>2.303456</td>\n",
       "      <td>4364.233261</td>\n",
       "      <td>1.000000</td>\n",
       "      <td>0.000000</td>\n",
       "      <td>0.586393</td>\n",
       "      <td>2.000000</td>\n",
       "    </tr>\n",
       "    <tr>\n",
       "      <th>4</th>\n",
       "      <td>3</td>\n",
       "      <td>43494.400000</td>\n",
       "      <td>0.000000</td>\n",
       "      <td>1.000000</td>\n",
       "      <td>2.360000</td>\n",
       "      <td>1.000000</td>\n",
       "      <td>11483.320000</td>\n",
       "      <td>13.800000</td>\n",
       "      <td>150.000000</td>\n",
       "      <td>0.600000</td>\n",
       "      <td>3544.400000</td>\n",
       "      <td>0.000000</td>\n",
       "      <td>1.000000</td>\n",
       "      <td>3.000000</td>\n",
       "      <td>1.000000</td>\n",
       "    </tr>\n",
       "    <tr>\n",
       "      <th>5</th>\n",
       "      <td>4</td>\n",
       "      <td>30013.416309</td>\n",
       "      <td>98.054363</td>\n",
       "      <td>1.000000</td>\n",
       "      <td>1.000000</td>\n",
       "      <td>1.000000</td>\n",
       "      <td>2552.569385</td>\n",
       "      <td>6.101574</td>\n",
       "      <td>340.274678</td>\n",
       "      <td>0.948498</td>\n",
       "      <td>1568.864092</td>\n",
       "      <td>0.000000</td>\n",
       "      <td>4.000000</td>\n",
       "      <td>1.011445</td>\n",
       "      <td>2.991416</td>\n",
       "    </tr>\n",
       "    <tr>\n",
       "      <th>6</th>\n",
       "      <td>5</td>\n",
       "      <td>91415.916667</td>\n",
       "      <td>0.000000</td>\n",
       "      <td>1.083333</td>\n",
       "      <td>2.166667</td>\n",
       "      <td>1.000000</td>\n",
       "      <td>12827.666667</td>\n",
       "      <td>19.500000</td>\n",
       "      <td>788.583333</td>\n",
       "      <td>2.166667</td>\n",
       "      <td>4540.583333</td>\n",
       "      <td>1.000000</td>\n",
       "      <td>0.000000</td>\n",
       "      <td>3.000000</td>\n",
       "      <td>2.000000</td>\n",
       "    </tr>\n",
       "  </tbody>\n",
       "</table>\n",
       "</div>"
      ],
      "text/plain": [
       "  clusterid_DBSCAN        Balance  Qual_miles cc1_miles cc2_miles cc3_miles  \\\n",
       "                             mean        mean      mean      mean      mean   \n",
       "0               -1  183411.700000  429.833333  2.833333  1.333333  2.633333   \n",
       "1                0   71081.591928   85.225897  1.984305  1.000000  1.000000   \n",
       "2                1  128144.883365  159.577438  4.384321  1.000000  1.000000   \n",
       "3                2   77576.992441  280.104752  1.707343  1.000000  1.000000   \n",
       "4                3   43494.400000    0.000000  1.000000  2.360000  1.000000   \n",
       "5                4   30013.416309   98.054363  1.000000  1.000000  1.000000   \n",
       "6                5   91415.916667    0.000000  1.083333  2.166667  1.000000   \n",
       "\n",
       "    Bonus_miles Bonus_trans Flight_miles_12mo Flight_trans_12  \\\n",
       "           mean        mean              mean            mean   \n",
       "0  72041.633333   30.533333       3054.166667        8.600000   \n",
       "1  12937.807175   10.196188        182.400224        0.536435   \n",
       "2  57731.363289   21.841300        878.879541        2.755258   \n",
       "3  11772.331533   11.903888        768.916847        2.303456   \n",
       "4  11483.320000   13.800000        150.000000        0.600000   \n",
       "5   2552.569385    6.101574        340.274678        0.948498   \n",
       "6  12827.666667   19.500000        788.583333        2.166667   \n",
       "\n",
       "  Days_since_enroll     Award clustersid_s1 clustersid_s2 clusterid_Kmeans  \n",
       "               mean      mean          mean          mean             mean  \n",
       "0       4367.433333  0.666667      1.833333      3.200000         2.166667  \n",
       "1       4705.659753  0.000000      1.447870      0.757848         0.687780  \n",
       "2       5092.133843  1.000000      3.000000      0.187380         4.000000  \n",
       "3       4364.233261  1.000000      0.000000      0.586393         2.000000  \n",
       "4       3544.400000  0.000000      1.000000      3.000000         1.000000  \n",
       "5       1568.864092  0.000000      4.000000      1.011445         2.991416  \n",
       "6       4540.583333  1.000000      0.000000      3.000000         2.000000  "
      ]
     },
     "execution_count": 87,
     "metadata": {},
     "output_type": "execute_result"
    }
   ],
   "source": [
    "data1.groupby('clusterid_DBSCAN').agg(['mean']).reset_index()"
   ]
  }
 ],
 "metadata": {
  "kernelspec": {
   "display_name": "Python 3",
   "language": "python",
   "name": "python3"
  },
  "language_info": {
   "codemirror_mode": {
    "name": "ipython",
    "version": 3
   },
   "file_extension": ".py",
   "mimetype": "text/x-python",
   "name": "python",
   "nbconvert_exporter": "python",
   "pygments_lexer": "ipython3",
   "version": "3.8.5"
  }
 },
 "nbformat": 4,
 "nbformat_minor": 4
}
